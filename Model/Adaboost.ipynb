version https://git-lfs.github.com/spec/v1
oid sha256:e5560a7e4bb1a684c93673004e84dd2739612fbf969ebc98cecaf1fbc74055cd
size 68664
