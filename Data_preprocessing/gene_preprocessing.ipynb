version https://git-lfs.github.com/spec/v1
oid sha256:aaf686a7aae8566cba38cd4dcb24bf2c9642912a928c640573b06d38eb4cf1d9
size 351640
